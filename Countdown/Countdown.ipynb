{
 "cells": [
  {
   "cell_type": "code",
   "execution_count": 8,
   "metadata": {},
   "outputs": [
    {
     "name": "stdout",
     "output_type": "stream",
     "text": [
      "timer pronto\n",
      "None\n"
     ]
    }
   ],
   "source": [
    "from itertools import count\n",
    "import time\n",
    "import pygame\n",
    "\n",
    "\n",
    "def countdown(t):\n",
    "    while t:\n",
    "        mins, secs = divmod(t, 60)\n",
    "        timer = \"{:02d}:{:02d}\".format(mins, secs)\n",
    "        print(timer, end=\"\\r\")\n",
    "        time.sleep(1)\n",
    "        t -= 1\n",
    "        pygame.init()\n",
    "        pygame.mixer.music.load(\"bomba1.mp3\")\n",
    "\n",
    "    print(\"timer pronto\")\n",
    "    print(pygame.mixer.music.play())\n",
    "    pygame.event.wait()\n",
    "\n",
    "  \n",
    "        \n",
    "        \n",
    "\n",
    "\n",
    "t = input(\"Entre o tempo em segundos: \")\n",
    "\n",
    "countdown(int(t))\n"
   ]
  },
  {
   "cell_type": "code",
   "execution_count": 4,
   "metadata": {},
   "outputs": [
    {
     "name": "stdout",
     "output_type": "stream",
     "text": [
      "pygame 2.1.2 (SDL 2.0.18, Python 3.9.13)\n",
      "Hello from the pygame community. https://www.pygame.org/contribute.html\n"
     ]
    },
    {
     "data": {
      "text/plain": [
       "<Event(4352-AudioDeviceAdded {'which': 0, 'iscapture': 0})>"
      ]
     },
     "execution_count": 4,
     "metadata": {},
     "output_type": "execute_result"
    }
   ],
   "source": [
    "import pygame\n",
    "\n",
    "pygame.init()\n",
    "pygame.mixer.music.load(\"bomba1.mp3\")\n",
    "pygame.mixer.music.play()\n",
    "pygame.event.wait()"
   ]
  }
 ],
 "metadata": {
  "kernelspec": {
   "display_name": "Python 3.9.13 ('base')",
   "language": "python",
   "name": "python3"
  },
  "language_info": {
   "codemirror_mode": {
    "name": "ipython",
    "version": 3
   },
   "file_extension": ".py",
   "mimetype": "text/x-python",
   "name": "python",
   "nbconvert_exporter": "python",
   "pygments_lexer": "ipython3",
   "version": "3.9.13"
  },
  "orig_nbformat": 4,
  "vscode": {
   "interpreter": {
    "hash": "1d5c0991d7aaec591df3718f21ace1a5ed6433a5190cce3bdc604214b7d049a4"
   }
  }
 },
 "nbformat": 4,
 "nbformat_minor": 2
}
