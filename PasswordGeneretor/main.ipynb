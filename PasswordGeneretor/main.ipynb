{
 "cells": [
  {
   "cell_type": "code",
   "execution_count": 4,
   "metadata": {},
   "outputs": [
    {
     "name": "stdout",
     "output_type": "stream",
     "text": [
      "### Bem vindo ao Gerador de Senhas ###\n",
      "Aqui estão suas senhas: \n",
      "rWggT0SDOh\n",
      "aBQDwZxa30\n",
      "Hvt*0L&oT¨\n",
      "Vx8leA@%bQ\n",
      "wvXDTZzxYJ\n",
      "W2BBmfzqww\n",
      "yH*g%*8!vE\n",
      "BpLOHH8QAc\n",
      "Cc2#@DkGOx\n",
      "Uw7HuSnoOC\n"
     ]
    }
   ],
   "source": [
    "#Bibliotecas\n",
    "import random\n",
    "\n",
    "# Gerador de senha\n",
    "\n",
    "print(\"### Bem vindo ao Gerador de Senhas ###\")\n",
    "\n",
    "caracters = \"abcdefgehijklmnopqrstuvwxyzABCDEFGHIJKLMNOPQRSTUVWXYZ0123456789!@#$%¨&*\"\n",
    "\n",
    "#Numero de senhas\n",
    "numeros = input(\"Quantas senhas você deseja? \")\n",
    "numeros = int(numeros)\n",
    "\n",
    "#Tamanho da Senha\n",
    "tamanho = input(\"Digite o tamanho das senhas \")\n",
    "tamanho = int(tamanho)\n",
    "\n",
    "print(\"Aqui estão suas senhas: \")\n",
    "\n",
    "#processamento das senhas\n",
    "for sen in range(numeros):\n",
    "    senhas = \"\"\n",
    "    for t in range(tamanho):\n",
    "        senhas += random.choice(caracters)\n",
    "    #Mostragem das senhas\n",
    "    print(senhas)\n",
    "\n",
    "\n",
    "\n",
    "\n"
   ]
  }
 ],
 "metadata": {
  "kernelspec": {
   "display_name": "Python 3.9.13 ('base')",
   "language": "python",
   "name": "python3"
  },
  "language_info": {
   "codemirror_mode": {
    "name": "ipython",
    "version": 3
   },
   "file_extension": ".py",
   "mimetype": "text/x-python",
   "name": "python",
   "nbconvert_exporter": "python",
   "pygments_lexer": "ipython3",
   "version": "3.9.13"
  },
  "orig_nbformat": 4,
  "vscode": {
   "interpreter": {
    "hash": "1d5c0991d7aaec591df3718f21ace1a5ed6433a5190cce3bdc604214b7d049a4"
   }
  }
 },
 "nbformat": 4,
 "nbformat_minor": 2
}
